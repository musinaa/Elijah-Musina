{
  "nbformat": 4,
  "nbformat_minor": 0,
  "metadata": {
    "colab": {
      "name": "Untitled6.ipynb",
      "provenance": [],
      "authorship_tag": "ABX9TyO7KHq9P5iVX6rwmXEFwVKB",
      "include_colab_link": true
    },
    "kernelspec": {
      "name": "python3",
      "display_name": "Python 3"
    },
    "language_info": {
      "name": "python"
    }
  },
  "cells": [
    {
      "cell_type": "markdown",
      "metadata": {
        "id": "view-in-github",
        "colab_type": "text"
      },
      "source": [
        "<a href=\"https://colab.research.google.com/github/musinaa/Elijah-Musina/blob/main/if_else.ipynb\" target=\"_parent\"><img src=\"https://colab.research.google.com/assets/colab-badge.svg\" alt=\"Open In Colab\"/></a>"
      ]
    },
    {
      "cell_type": "markdown",
      "source": [
        "if esle statement to print filter candidates selection based on qualification in a job interview"
      ],
      "metadata": {
        "id": "INRwLDGny5Iq"
      }
    },
    {
      "cell_type": "code",
      "source": [
        "skills=[\"data analytics\",\"communication skills\",\"python\",\"interpersonal skills\",\"webscrapping\"]\n",
        "experience=[\"two years\",\"three years\",\"four years\",\"less than a year\",\"over four years\"]\n",
        "education=[\"degree\",\"high school\",\"primary\",\"phd\",\"masters\"]\n",
        "shortlisted=input(\"Enter your skills, experience or educatio: \")\n",
        "if shortlisted in skills:\n",
        "    print(\"You have been shortlisted as a data analyst\")\n",
        "elif shortlisted in experience:\n",
        "    print(\"You have been shortlisted as a data analyst\")\n",
        "elif shortlisted in education:\n",
        "    print(\"You have been shortlisted as a data analyst\")\n",
        "else:\n",
        "    print(\"unfortunately we have decided to considered another candidate. currently we no longer consider candidates with\", shortlisted)"
      ],
      "metadata": {
        "colab": {
          "base_uri": "https://localhost:8080/"
        },
        "id": "0ZgYzSDVzHew",
        "outputId": "76357110-eef2-4c9a-ebd8-b159020d2100"
      },
      "execution_count": 2,
      "outputs": [
        {
          "output_type": "stream",
          "name": "stdout",
          "text": [
            "Enter your skills, experience or educatio: data analytics\n",
            "You have been shortlisted as a data analyst\n"
          ]
        }
      ]
    },
    {
      "cell_type": "code",
      "source": [
        ""
      ],
      "metadata": {
        "id": "JUtqCSOXzMxv"
      },
      "execution_count": null,
      "outputs": []
    }
  ]
}